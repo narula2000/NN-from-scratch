{
 "cells": [
  {
   "cell_type": "code",
   "execution_count": 13,
   "id": "7fcb02c9",
   "metadata": {
    "ExecuteTime": {
     "end_time": "2022-07-01T01:48:55.009906Z",
     "start_time": "2022-07-01T01:48:55.003028Z"
    }
   },
   "outputs": [],
   "source": [
    "import numpy as np\n",
    "import pandas as pd\n",
    "import seaborn as sns\n",
    "from matplotlib import pyplot as plt\n",
    "\n",
    "sns.set_theme()"
   ]
  },
  {
   "cell_type": "code",
   "execution_count": 14,
   "id": "6653f51e",
   "metadata": {
    "ExecuteTime": {
     "end_time": "2022-07-01T01:48:58.054016Z",
     "start_time": "2022-07-01T01:48:55.285269Z"
    }
   },
   "outputs": [],
   "source": [
    "data = pd.read_csv(\"data/train.csv\")\n",
    "test_data = pd.read_csv(\"data/test.csv\")"
   ]
  },
  {
   "cell_type": "code",
   "execution_count": 15,
   "id": "404b6080",
   "metadata": {
    "ExecuteTime": {
     "end_time": "2022-07-01T01:48:59.248965Z",
     "start_time": "2022-07-01T01:48:58.055461Z"
    }
   },
   "outputs": [
    {
     "name": "stdout",
     "output_type": "stream",
     "text": [
      "Shape: (42000, 785)\n"
     ]
    }
   ],
   "source": [
    "data = np.array(data)\n",
    "test_data = np.array(test_data)\n",
    "\n",
    "m, n = data.shape\n",
    "np.random.shuffle(data)\n",
    "np.random.shuffle(test_data)\n",
    "\n",
    "print(\"Shape:\", data.shape)"
   ]
  },
  {
   "cell_type": "code",
   "execution_count": 18,
   "id": "697d76d6",
   "metadata": {
    "ExecuteTime": {
     "end_time": "2022-07-01T01:49:21.988155Z",
     "start_time": "2022-07-01T01:49:21.845573Z"
    }
   },
   "outputs": [],
   "source": [
    "data_test = test_data.T\n",
    "Y_test = data_test[0]\n",
    "X_test = data_test[1:n]\n",
    "X_test = X_test / 255.\n",
    "\n",
    "data_train = data.T\n",
    "Y_train = data_train[0]\n",
    "X_train = data_train[1:n]\n",
    "X_train = X_train / 255.\n",
    "_, m_train = X_train.shape"
   ]
  },
  {
   "cell_type": "code",
   "execution_count": 19,
   "id": "3dd71668",
   "metadata": {
    "ExecuteTime": {
     "end_time": "2022-07-01T01:49:25.289426Z",
     "start_time": "2022-07-01T01:49:25.285169Z"
    }
   },
   "outputs": [
    {
     "data": {
      "text/plain": [
       "array([4, 2, 7, ..., 5, 4, 0])"
      ]
     },
     "execution_count": 19,
     "metadata": {},
     "output_type": "execute_result"
    }
   ],
   "source": [
    "Y_train"
   ]
  }
 ],
 "metadata": {
  "kernelspec": {
   "display_name": "Python 3 (ipykernel)",
   "language": "python",
   "name": "python3"
  },
  "language_info": {
   "codemirror_mode": {
    "name": "ipython",
    "version": 3
   },
   "file_extension": ".py",
   "mimetype": "text/x-python",
   "name": "python",
   "nbconvert_exporter": "python",
   "pygments_lexer": "ipython3",
   "version": "3.10.5"
  },
  "toc": {
   "base_numbering": 1,
   "nav_menu": {},
   "number_sections": true,
   "sideBar": true,
   "skip_h1_title": false,
   "title_cell": "Table of Contents",
   "title_sidebar": "Contents",
   "toc_cell": false,
   "toc_position": {},
   "toc_section_display": true,
   "toc_window_display": false
  }
 },
 "nbformat": 4,
 "nbformat_minor": 5
}
